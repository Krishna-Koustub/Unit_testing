{
 "cells": [
  {
   "cell_type": "code",
   "execution_count": 1,
   "source": [
    "import pytest \r\n",
    "@pytest.mark.login\r\n",
    "\r\n",
    "def test_m1():\r\n",
    "    a=3\r\n",
    "    b=4\r\n",
    "    assert a+1==b , \"test failed\"\r\n",
    "    assert a==b , \"test failed as a is not equal to b\"\r\n",
    "\r\n",
    "def test_m2():\r\n",
    "    name = 'selenium'\r\n",
    "    assert name.upper()==\"SELENIUM\"\r\n",
    "\r\n",
    "@pytest.mark.login   \r\n",
    "def test_m3():\r\n",
    "    assert True\r\n",
    "\r\n",
    "def test_m4():\r\n",
    "    assert False\r\n",
    "\r\n",
    "@pytest.mark.login\r\n",
    "def test_m5():\r\n",
    "    assert 100==100\r\n",
    "\r\n",
    "def test_m6():\r\n",
    "    assert \"naveen\"==\"NAVEEN\"\r\n",
    "\r\n",
    "@pytest.mark.login\r\n",
    "def test_login_FB():\r\n",
    "    assert \"admin\"==\"admin123\"\r\n",
    "\r\n",
    "\r\n",
    "print('ll')"
   ],
   "outputs": [
    {
     "output_type": "stream",
     "name": "stdout",
     "text": [
      "ll\n"
     ]
    }
   ],
   "metadata": {}
  },
  {
   "cell_type": "code",
   "execution_count": null,
   "source": [],
   "outputs": [],
   "metadata": {}
  }
 ],
 "metadata": {
  "kernelspec": {
   "name": "python3",
   "display_name": "Python 3.8.8 64-bit ('base': conda)"
  },
  "language_info": {
   "name": "python",
   "version": "3.8.8",
   "mimetype": "text/x-python",
   "codemirror_mode": {
    "name": "ipython",
    "version": 3
   },
   "pygments_lexer": "ipython3",
   "nbconvert_exporter": "python",
   "file_extension": ".py"
  },
  "interpreter": {
   "hash": "cc5f70855ac006f3de45a3cc3b9e7d8d53845e50458809cb162b0174266dec97"
  }
 },
 "nbformat": 4,
 "nbformat_minor": 5
}
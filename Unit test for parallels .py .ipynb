{
 "cells": [
  {
   "cell_type": "code",
   "execution_count": null,
   "id": "ba9cd8b2",
   "metadata": {},
   "outputs": [],
   "source": [
    "from selenium import webdriver\n",
    "from selenium.webdriver import ActionChains\n",
    "from selenium.webdriver.common.by  import by\n",
    "from webdriver_manager.chrome import chromeDriverManager \n",
    "import time\n",
    "\n",
    "def test_google():\n",
    "    driver=webdriver.chrome(chromeDriverManager().install())\n",
    "    driver.implicitly_wait(10)\n",
    "    driver.get(\"https://www.google.co.in\")\n",
    "    assert driver.title ==\"Google\"\n",
    "    driver.quit()\n",
    "\n",
    "\n",
    "    \n",
    "    "
   ]
  },
  {
   "cell_type": "code",
   "execution_count": 1,
   "id": "2c29b568",
   "metadata": {},
   "outputs": [
    {
     "name": "stdout",
     "output_type": "stream",
     "text": [
      "Note: you may need to restart the kernel to use updated packages.\n"
     ]
    },
    {
     "name": "stderr",
     "output_type": "stream",
     "text": [
      "ERROR: Could not find a version that satisfies the requirement selenium.webdriver.common.by\n",
      "ERROR: No matching distribution found for selenium.webdriver.common.by\n"
     ]
    }
   ],
   "source": [
    "\n",
    "pip install  selenium.webdriver.common.by\n"
   ]
  },
  {
   "cell_type": "code",
   "execution_count": null,
   "id": "81644a1b",
   "metadata": {},
   "outputs": [],
   "source": []
  }
 ],
 "metadata": {
  "kernelspec": {
   "display_name": "Python 3",
   "language": "python",
   "name": "python3"
  },
  "language_info": {
   "codemirror_mode": {
    "name": "ipython",
    "version": 3
   },
   "file_extension": ".py",
   "mimetype": "text/x-python",
   "name": "python",
   "nbconvert_exporter": "python",
   "pygments_lexer": "ipython3",
   "version": "3.8.8"
  }
 },
 "nbformat": 4,
 "nbformat_minor": 5
}
